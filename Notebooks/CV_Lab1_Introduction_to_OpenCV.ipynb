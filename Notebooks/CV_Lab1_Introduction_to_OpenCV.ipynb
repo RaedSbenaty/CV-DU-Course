{
 "cells": [
  {
   "cell_type": "code",
   "execution_count": 7,
   "metadata": {},
   "outputs": [],
   "source": [
    "import cv2\n",
    "from cv2 import Mat\n",
    "import numpy as np"
   ]
  },
  {
   "cell_type": "markdown",
   "metadata": {},
   "source": [
    "Read images"
   ]
  },
  {
   "cell_type": "code",
   "execution_count": 8,
   "metadata": {},
   "outputs": [],
   "source": [
    "img = cv2.imread('../Images/home.jpg')\n",
    "# image = cv2.imread('Images/home.jpg', 0) #grayscale\n",
    "cv2.imshow(\"img\", img)\n",
    "cv2.waitKey(0)\n",
    "cv2.destroyAllWindows()\n"
   ]
  },
  {
   "cell_type": "markdown",
   "metadata": {},
   "source": [
    "Image info"
   ]
  },
  {
   "cell_type": "code",
   "execution_count": 9,
   "metadata": {},
   "outputs": [
    {
     "name": "stdout",
     "output_type": "stream",
     "text": [
      "shape: (384, 512, 3)\n",
      "size: 589824\n",
      "image type: <class 'numpy.ndarray'>\n",
      "pixel type: uint8\n"
     ]
    }
   ],
   "source": [
    "print(f'shape: {img.shape}')\n",
    "print(f'size: {img.size}')\n",
    "print(f'image type: {type(img)}')\n",
    "print(f'pixel type: {img.dtype}')"
   ]
  },
  {
   "cell_type": "markdown",
   "metadata": {},
   "source": [
    "Splitting"
   ]
  },
  {
   "cell_type": "code",
   "execution_count": 10,
   "metadata": {},
   "outputs": [
    {
     "data": {
      "text/plain": [
       "27"
      ]
     },
     "execution_count": 10,
     "metadata": {},
     "output_type": "execute_result"
    }
   ],
   "source": [
    "b, g, r = cv2.split(img)\n",
    "# b, g, r = img[:, :, 0], img[:, :, 1], img[:, :, 2]\n",
    "cv2.imshow(\"green\", img[:, :, 1])\n",
    "cv2.waitKey(0)"
   ]
  },
  {
   "cell_type": "markdown",
   "metadata": {},
   "source": [
    "Merging"
   ]
  },
  {
   "cell_type": "markdown",
   "metadata": {},
   "source": [
    "what is ord built-in function? \n",
    "https://www.geeksforgeeks.org/ord-function-python/"
   ]
  },
  {
   "cell_type": "code",
   "execution_count": 11,
   "metadata": {},
   "outputs": [],
   "source": [
    "img = cv2.merge((b, g, r))\n",
    "cv2.imshow(\"img\", img)\n",
    "\n",
    "k = cv2.waitKey(0)\n",
    "if k == 27:  # wait for ESC key to exit\n",
    "    cv2.destroyAllWindows()\n",
    "elif k == ord('s'):\n",
    "    cv2.imwrite('result.png', img)\n",
    "    print('image has been saved.')\n"
   ]
  },
  {
   "cell_type": "markdown",
   "metadata": {},
   "source": [
    "Color spaces"
   ]
  },
  {
   "cell_type": "code",
   "execution_count": 12,
   "metadata": {},
   "outputs": [
    {
     "data": {
      "text/plain": [
       "27"
      ]
     },
     "execution_count": 12,
     "metadata": {},
     "output_type": "execute_result"
    }
   ],
   "source": [
    "cv2.imshow(\"BGR\", img)\n",
    "HSV = cv2.cvtColor(img, cv2.COLOR_BGR2HSV)\n",
    "cv2.imshow(\"HSV\", HSV)\n",
    "\n",
    "gray = cv2.cvtColor(img, cv2.COLOR_BGR2GRAY)\n",
    "cv2.imshow(\"Gray\", gray)\n",
    "\n",
    "rgb = cv2.cvtColor(img, cv2.COLOR_BGR2RGB)\n",
    "cv2.imshow(\"RGB\", rgb)\n",
    "cv2.waitKey(0)\n"
   ]
  },
  {
   "cell_type": "markdown",
   "metadata": {},
   "source": [
    "2D Transformations"
   ]
  },
  {
   "cell_type": "markdown",
   "metadata": {},
   "source": [
    "Why do we reverse cols and rows?\n",
    "https://stackoverflow.com/questions/25642532/opencv-pointx-y-represent-column-row-or-row-column"
   ]
  },
  {
   "cell_type": "code",
   "execution_count": 14,
   "metadata": {},
   "outputs": [],
   "source": [
    "def scale(img: Mat):\n",
    "    rows, cols, _ = img.shape\n",
    "    img = cv2.resize(img, (cols//2, rows//2))\n",
    "    cv2.imshow('resize', img)\n",
    "    cv2.waitKey(0)\n",
    "\n",
    "\n",
    "def translate(img: Mat):\n",
    "    rows, cols, _ = img.shape\n",
    "    tx, ty = 10, 20\n",
    "    M = np.array([[1, 0, tx],\n",
    "                  [0, 1, ty]], dtype=np.float32)\n",
    "    img = cv2.warpAffine(img, M, (cols, rows))\n",
    "    cv2.imshow('translate', img)\n",
    "    cv2.waitKey(0)\n",
    "\n",
    "\n",
    "def rotate_with_matrix(img: Mat):\n",
    "    rows, cols, _ = img.shape\n",
    "    center = (cols//2, rows//2)\n",
    "    angle, scale = 90, 1\n",
    "    M = cv2.getRotationMatrix2D(center, angle, scale)\n",
    "\n",
    "    img = cv2.warpAffine(img, M, (cols, rows))\n",
    "    cv2.imshow('rotate_with_matrix', img)\n",
    "    cv2.waitKey(0)\n",
    "\n",
    "\n",
    "def rotate(img: Mat):\n",
    "    img = cv2.rotate(img, cv2.ROTATE_90_CLOCKWISE)\n",
    "    cv2.imshow('rotate', img)\n",
    "    cv2.waitKey(0)\n",
    "\n",
    "\n",
    "def flip(img: Mat):\n",
    "    # assert np.all(cv2.flip(img, 0) == cv2.flip(cv2.flip(img, 1), -1))\n",
    "    img = cv2.flip(img, 0)\n",
    "    cv2.imshow('flip', img)\n",
    "    cv2.waitKey(0)\n"
   ]
  },
  {
   "cell_type": "code",
   "execution_count": 15,
   "metadata": {},
   "outputs": [],
   "source": [
    "scale(img)\n",
    "# translate(img)\n",
    "# rotate_with_matrix(img)\n",
    "# rotate(img)\n",
    "# flip(img)"
   ]
  }
 ],
 "metadata": {
  "kernelspec": {
   "display_name": "Python 3.9.7 64-bit",
   "language": "python",
   "name": "python3"
  },
  "language_info": {
   "codemirror_mode": {
    "name": "ipython",
    "version": 3
   },
   "file_extension": ".py",
   "mimetype": "text/x-python",
   "name": "python",
   "nbconvert_exporter": "python",
   "pygments_lexer": "ipython3",
   "version": "3.9.7"
  },
  "orig_nbformat": 4,
  "vscode": {
   "interpreter": {
    "hash": "6fff98fc3b3d81bd655c2cc48858186e4d9e2db7b515bf1c3221888f12a62f87"
   }
  }
 },
 "nbformat": 4,
 "nbformat_minor": 2
}
