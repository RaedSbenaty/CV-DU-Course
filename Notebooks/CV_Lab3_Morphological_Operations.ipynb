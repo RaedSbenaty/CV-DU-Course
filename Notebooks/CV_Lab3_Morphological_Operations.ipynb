{
 "cells": [
  {
   "cell_type": "markdown",
   "metadata": {},
   "source": [
    "## _Computer Vision_\n",
    "### Lab 3, _Morphological Operations_.\n",
    "#### >> Topics  :\n",
    "* ##### Sobel and Canny Filters.\n",
    "* ##### Thresholding.\n",
    "* ##### Morphological Operations.\n",
    "\n",
    "##### >> Notes  :\n",
    "> - ##### To close image windows smoothly please **press Esc** on your keyboard, **don't close** it directly by clicking on 'X' to avoid kernel interruption.\n",
    "> - ##### To run this lab using google colab follow below instructions:\n",
    "> 1. Import `cv2_imshow` method using `from google.colab.patches import cv2_imshow`.\n",
    "> 2. Replace all `cv.imshow()` with `cv2_imshow()` with one parameter **name of that image**.\n",
    "> 3. Specify your path."
   ]
  },
  {
   "cell_type": "code",
   "execution_count": 1,
   "metadata": {},
   "outputs": [],
   "source": [
    "import cv2 as cv\n",
    "import numpy as np"
   ]
  },
  {
   "cell_type": "markdown",
   "metadata": {
    "collapsed": false
   },
   "source": [
    "### Section 0, _Helper Functions_:\n",
    "> ##### This cell contains some helper function such as error_handler, please run it without any modification."
   ]
  },
  {
   "cell_type": "code",
   "execution_count": 2,
   "metadata": {
    "collapsed": false
   },
   "outputs": [],
   "source": [
    "# please don't modify this code.\n",
    "def show_text_window(titles):\n",
    "    black = np.zeros((len(titles) * 150, 400))\n",
    "    for idx, t in enumerate(titles):\n",
    "        place = idx + 1\n",
    "        cv.putText(black, t, (10, place * 100),\n",
    "                   cv.FONT_HERSHEY_SIMPLEX, 1, (200, 0, 200), 1, 2)\n",
    "    cv.imshow(\"Values\", black)\n",
    "\n",
    "\n",
    "def get_updated_value(key, value, **kwargs):\n",
    "    if key == ord('+'):\n",
    "        return value, 0\n",
    "    elif key == ord('-'):\n",
    "        return -value, 0\n",
    "    elif key == ord('*'):\n",
    "        return 0, kwargs.get('value2', value)\n",
    "    elif key == ord('/'):\n",
    "        return 0, -kwargs.get('value2', value)\n",
    "    elif key == 27:\n",
    "        raise Exception('Terminated by user!')\n",
    "    else:\n",
    "        return 0, 0\n",
    "\n",
    "\n",
    "def error_handler(func):\n",
    "    def wrapper(*args, **kwargs):\n",
    "        try:\n",
    "            func(*args, **kwargs)\n",
    "        except Exception as ex:\n",
    "            cv.destroyAllWindows()\n",
    "            print(f'{ex}')\n",
    "\n",
    "    return wrapper\n"
   ]
  },
  {
   "cell_type": "markdown",
   "metadata": {},
   "source": [
    "### Section 1, _Edge Detection_:\n",
    "> #### In this section we will discover `Sobel` and `Canny` filters which are widely used for **edge detection** in computer vision applications.\n",
    "\n",
    "#### 1.1 Sobel filter\n",
    "> ##### It is particularly effective at highlighting abrupt changes in pixel intensity, which often correspond to edges in images.\n",
    "> ##### The Sobel Operator combines Gaussian smoothing and differentiation.\n",
    "![image info](https://i0.wp.com/theailearner.com/wp-content/uploads/2019/05/sobelxy.png?w=660&ssl=1)\n",
    "![image info](https://i0.wp.com/theailearner.com/wp-content/uploads/2019/05/Sobx2.png?w=626&ssl=1)\n",
    "* ##### [Click to check the documentation](https://docs.opencv.org/3.4/d2/d2c/tutorial_sobel_derivatives.html)"
   ]
  },
  {
   "cell_type": "code",
   "execution_count": 69,
   "metadata": {},
   "outputs": [
    {
     "name": "stdout",
     "output_type": "stream",
     "text": [
      "Terminated by user!\n"
     ]
    }
   ],
   "source": [
    "@error_handler\n",
    "def sobel(path):\n",
    "    image = cv.imread(path, 0)\n",
    "    cv.imshow(\"Image\", image)\n",
    "    k = 1\n",
    "    while True:\n",
    "        sobel_x_filtered_image = cv.Sobel(image, cv.CV_64F, 1, 0, ksize=k)  # grad_x\n",
    "        sobel_y_filtered_image = cv.Sobel(image, cv.CV_64F, 0, 1, ksize=k)  # grad_y\n",
    "\n",
    "        grad = np.sqrt(sobel_x_filtered_image**2 + sobel_y_filtered_image**2)  # grad\n",
    "        grad_norm = (grad * 255 / grad.max()).astype(np.uint8)  # grad_scaled\n",
    "\n",
    "        sobel_x_filtered_image = cv.convertScaleAbs(sobel_x_filtered_image)  # grad_x_scaled\n",
    "        sobel_y_filtered_image = cv.convertScaleAbs(sobel_y_filtered_image)  # grad_y_scaled\n",
    "\n",
    "        cv.imshow(\"sobel_x_filtered_image\", sobel_x_filtered_image)\n",
    "        cv.imshow(\"sobel_y_filtered_image\", sobel_y_filtered_image)\n",
    "        cv.imshow(\"sobel_magnitude_filtered_image\", grad_norm)\n",
    "\n",
    "        show_text_window([f'Kernel Size {k, k}'])\n",
    "\n",
    "        key = cv.waitKey(0)\n",
    "        dk, _ = get_updated_value(key, 2)\n",
    "        k += dk\n",
    "\n",
    "\n",
    "path = \"../Images/sudoku2.png\"\n",
    "sobel(path)\n"
   ]
  },
  {
   "cell_type": "markdown",
   "metadata": {},
   "source": [
    "####  1.2 Canny Filter\n",
    "##### >> it involves several steps:\n",
    "> ##### Gaussian Smoothing -> Gradient Calculation -> Non-Maximum Suppression -> Double Thresholding -> Edge Tracking by Hysteresis.\n",
    "* ##### [Click to check the documentation](https://docs.opencv.org/4.x/da/d22/tutorial_py_canny.html)\n",
    "* ##### Click for more explanation: [Link1](https://medium.com/@rohit-krishna/coding-canny-edge-detection-algorithm-from-scratch-in-python-232e1fdceac7), [Link2](https://pyimagesearch.com/2021/05/12/opencv-edge-detection-cv2-canny/)\n",
    "\n"
   ]
  },
  {
   "cell_type": "code",
   "execution_count": 67,
   "metadata": {},
   "outputs": [
    {
     "name": "stdout",
     "output_type": "stream",
     "text": [
      "Terminated by user!\n"
     ]
    }
   ],
   "source": [
    "@error_handler\n",
    "def canny(path):\n",
    "    img = cv.imread(path, 0)\n",
    "    cv.imshow('image_original', img)\n",
    "    th1 = 100\n",
    "    th2 = 200\n",
    "    while True:\n",
    "        filtered_image = cv.Canny(img, threshold1=th1, threshold2=th2)\n",
    "        cv.imshow('filtered_image', filtered_image)\n",
    "\n",
    "        show_text_window([f'Threshold1: {th1}', f'Threshold2: {th2}'])\n",
    "\n",
    "        key = cv.waitKey(0)\n",
    "        dt1, dt2 = get_updated_value(key, 10)\n",
    "        th1 += dt1\n",
    "        th2 += dt2\n",
    "\n",
    "path = '../Images/home.jpg'\n",
    "canny(path)"
   ]
  },
  {
   "cell_type": "markdown",
   "metadata": {},
   "source": [
    "####  Sobel vs Canny\n",
    "##### 1. The Sobel edge detection algorithm also finds the thickness of the edges.\n",
    "##### 2. It is not a binary image, but a grayscale image.\n",
    "##### 3. It also has many noises that we can reduce."
   ]
  },
  {
   "cell_type": "code",
   "execution_count": 73,
   "metadata": {},
   "outputs": [
    {
     "name": "stdout",
     "output_type": "stream",
     "text": [
      "Terminated by user!\n"
     ]
    }
   ],
   "source": [
    "path = '../Images/messi.jpg'\n",
    "sobel(path)"
   ]
  },
  {
   "cell_type": "code",
   "execution_count": 74,
   "metadata": {},
   "outputs": [
    {
     "name": "stdout",
     "output_type": "stream",
     "text": [
      "Terminated by user!\n"
     ]
    }
   ],
   "source": [
    "path = '../Images/messi.jpg'\n",
    "canny(path)"
   ]
  },
  {
   "cell_type": "markdown",
   "metadata": {},
   "source": [
    "### Section 2, _Thresholding_:\n",
    "> ##### In this section we will discover the variant types of thresholding including binary, inverse binary, truncate and to zero.\n",
    "![image info](https://media.geeksforgeeks.org/wp-content/uploads/20190505162413/Screenshot-4113.png)\n"
   ]
  },
  {
   "cell_type": "code",
   "execution_count": 43,
   "metadata": {},
   "outputs": [],
   "source": [
    "@error_handler\n",
    "def threshold(path):\n",
    "    img = cv.imread(path, 0)\n",
    "    rows, cols = img.shape    \n",
    "    img = cv.resize(img, (cols // 2, rows // 2))\n",
    "    cv.imshow('Image', img)\n",
    "\n",
    "\n",
    "    thresh_types = [cv.THRESH_BINARY, cv.THRESH_BINARY_INV,\n",
    "                    cv.THRESH_TRUNC, cv.THRESH_TOZERO, cv.THRESH_TOZERO_INV]\n",
    "\n",
    "    thresh_names = ['THRESH_BINARY', 'THRESH_BINARY_INV',\n",
    "                    'cv.THRESH_TRUNC', 'cv.THRESH_TOZERO', 'cv.THRESH_TOZERO_INV']\n",
    "\n",
    "    initial_params = [(100, 255), (127, 255), (127, 0), (127, 0), (80, 0)]\n",
    "\n",
    "    for thresh_type, thresh_name, params in zip(thresh_types, thresh_names, initial_params):\n",
    "        threshold, max_val = params\n",
    "\n",
    "        while True:\n",
    "            ret, thresh = cv.threshold(img, threshold, max_val, thresh_type)\n",
    "            show_text_window([f'Threshold: {threshold}', f'MaxVal: {max_val}'])\n",
    "            cv.imshow(thresh_name, thresh)\n",
    "\n",
    "            try:\n",
    "                key = cv.waitKey(0)\n",
    "                dt, dm = get_updated_value(key, 10)\n",
    "                threshold += dt\n",
    "                max_val += dm\n",
    "            except:\n",
    "                cv.destroyWindow(thresh_name)\n",
    "                break\n",
    "\n",
    "    cv.destroyAllWindows()\n",
    "\n",
    "\n",
    "path = '../Images/numbers.png'\n",
    "threshold(path)\n"
   ]
  },
  {
   "cell_type": "markdown",
   "metadata": {},
   "source": [
    "### Section 3, _Morphological Operations_:\n",
    "> #### Morphological operations are a set of image processing techniques in computer vision used for analyzing and manipulating the structure of objects within an image, In this section we will explore the variant types of them.\n",
    "\n",
    "#### 3.1 Dilation\n",
    "* ##### OR window filter.\n",
    "* ##### It works by expands the boundaries of the foreground object in a binary image.\n",
    "* ##### It's  useful for tasks like expanding and filling gaps in objects, joining nearby objects, and thickening object boundaries."
   ]
  },
  {
   "cell_type": "code",
   "execution_count": 45,
   "metadata": {},
   "outputs": [
    {
     "name": "stdout",
     "output_type": "stream",
     "text": [
      "Terminated by user!\n"
     ]
    }
   ],
   "source": [
    "@error_handler\n",
    "def dilation(path):\n",
    "    img = cv.imread(path, 0)\n",
    "    cv.imshow(\"Image\", img)\n",
    "    k, iterations = 5, 1\n",
    "\n",
    "    while True:\n",
    "        kernel = np.ones((k, k), np.uint8)\n",
    "        dilation = cv.dilate(img, kernel, iterations=iterations)\n",
    "        \n",
    "        cv.imshow(\"dilation\", dilation)\n",
    "        show_text_window([f'Kernel Size {k}', f'Iterations {iterations}'])\n",
    "\n",
    "        key = cv.waitKey(0)\n",
    "        dk, di = get_updated_value(key, 2, value2=1)\n",
    "        k += dk\n",
    "        iterations += di\n",
    "\n",
    "\n",
    "path = '../Images/circles.png'\n",
    "dilation(path)\n"
   ]
  },
  {
   "cell_type": "code",
   "execution_count": 46,
   "metadata": {},
   "outputs": [
    {
     "name": "stdout",
     "output_type": "stream",
     "text": [
      "Terminated by user!\n"
     ]
    }
   ],
   "source": [
    "path = '../Images/blobs.png'\n",
    "dilation(path)"
   ]
  },
  {
   "cell_type": "markdown",
   "metadata": {},
   "source": [
    "### 3.2 Erosion\n",
    "* ##### AND window filter.\n",
    "* ##### It shrinks the boundaries of the foreground object in a binary image.\n",
    "* ##### It's useful for tasks like removing noise, separating touching objects, and thinning object boundaries."
   ]
  },
  {
   "cell_type": "code",
   "execution_count": 47,
   "metadata": {},
   "outputs": [
    {
     "name": "stdout",
     "output_type": "stream",
     "text": [
      "Terminated by user!\n"
     ]
    }
   ],
   "source": [
    "@error_handler\n",
    "def erosion(path):\n",
    "    img = cv.imread(path, 0)\n",
    "    cv.imshow(\"Image\", img)\n",
    "    k, iterations = 5, 1\n",
    "    while True:\n",
    "        kernel = np.ones((k, k), np.uint8)\n",
    "        erosion = cv.erode(img, kernel, iterations=iterations)\n",
    "        \n",
    "        cv.imshow(\"erosion\", erosion)\n",
    "        show_text_window([f'Kernel Size {k}', f'Iterations {iterations}'])\n",
    "\n",
    "        key = cv.waitKey(0)\n",
    "        dk, di = get_updated_value(key, 2, value2=1)\n",
    "        k += dk\n",
    "        iterations += di\n",
    "\n",
    "\n",
    "path = '../Images/circles.png'\n",
    "erosion(path)\n"
   ]
  },
  {
   "cell_type": "code",
   "execution_count": 48,
   "metadata": {},
   "outputs": [
    {
     "name": "stdout",
     "output_type": "stream",
     "text": [
      "Terminated by user!\n"
     ]
    }
   ],
   "source": [
    "path = '../Images/blobs.png'\n",
    "erosion(path)"
   ]
  },
  {
   "cell_type": "markdown",
   "metadata": {},
   "source": [
    "### 3.3 Opening\n",
    "* ##### Opening is a sequence of erosion followed by dilation.\n",
    "* ##### It's useful for removing small objects, noise, or fine details from the image.\n",
    "* ##### Opening = Erosion + Dilation."
   ]
  },
  {
   "cell_type": "code",
   "execution_count": 49,
   "metadata": {},
   "outputs": [
    {
     "name": "stdout",
     "output_type": "stream",
     "text": [
      "Terminated by user!\n"
     ]
    }
   ],
   "source": [
    "@error_handler\n",
    "def opening(path):\n",
    "    img = cv.imread(path, 0)\n",
    "    cv.imshow(\"Image\", img)\n",
    "    k = 5\n",
    "    while True:\n",
    "        kernel = np.ones((k, k), np.uint8)\n",
    "        erosion = cv.erode(img, kernel)\n",
    "        opening = cv.morphologyEx(img, cv.MORPH_OPEN, kernel)\n",
    "\n",
    "        cv.imshow(\"erosion\", erosion)\n",
    "        cv.imshow(\"opening\", opening)\n",
    "        show_text_window([f'Kernel Size {k}'])\n",
    "\n",
    "        key = cv.waitKey(0)\n",
    "        dk, _ = get_updated_value(key, 2)\n",
    "        k += dk\n",
    "\n",
    "\n",
    "path = '../Images/opening.png'\n",
    "opening(path)\n"
   ]
  },
  {
   "cell_type": "code",
   "execution_count": 50,
   "metadata": {},
   "outputs": [
    {
     "name": "stdout",
     "output_type": "stream",
     "text": [
      "Terminated by user!\n"
     ]
    }
   ],
   "source": [
    "path = '../Images/blobs.png'\n",
    "opening(path)"
   ]
  },
  {
   "cell_type": "markdown",
   "metadata": {},
   "source": [
    "### 3.4 Closing\n",
    "* ##### Closing is a sequence of dilation followed by erosion.\n",
    "* ##### It's effective in closing small holes and gaps within objects.\n",
    "* ##### Closing = Dilation + Erosion."
   ]
  },
  {
   "cell_type": "code",
   "execution_count": 57,
   "metadata": {},
   "outputs": [
    {
     "name": "stdout",
     "output_type": "stream",
     "text": [
      "Terminated by user!\n"
     ]
    }
   ],
   "source": [
    "@error_handler\n",
    "def closing(path):\n",
    "    img = cv.imread(path, 0)\n",
    "    cv.imshow(\"Image\", img)\n",
    "    \n",
    "    k = 5\n",
    "    while True:\n",
    "        kernel = np.ones((k, k), np.uint8)\n",
    "        dilation = cv.dilate(img, kernel)\n",
    "        closing = cv.morphologyEx(img, cv.MORPH_CLOSE, kernel)\n",
    "        \n",
    "        cv.imshow(\"dilation\", dilation)\n",
    "        cv.imshow(\"closing\", closing)\n",
    "        show_text_window([f'Kernel Size {k}'])\n",
    "\n",
    "        key = cv.waitKey(0)\n",
    "        dk, _ = get_updated_value(key, 2)\n",
    "        k += dk\n",
    "\n",
    "\n",
    "path = '../Images/j.png'\n",
    "closing(path)\n"
   ]
  },
  {
   "cell_type": "code",
   "execution_count": 59,
   "metadata": {},
   "outputs": [
    {
     "name": "stdout",
     "output_type": "stream",
     "text": [
      "Terminated by user!\n"
     ]
    }
   ],
   "source": [
    "path = '../Images/blobs.png'\n",
    "closing(path)"
   ]
  },
  {
   "cell_type": "markdown",
   "metadata": {},
   "source": [
    "### 3.5 Gradient\n",
    "* ##### The morphological gradient is the difference between dilation and erosion of an image.\n",
    "* ##### It highlights the boundaries of objects.\n",
    "* ##### Gradient = Dilation - Erosion\n"
   ]
  },
  {
   "cell_type": "code",
   "execution_count": 62,
   "metadata": {},
   "outputs": [
    {
     "name": "stdout",
     "output_type": "stream",
     "text": [
      "Terminated by user!\n"
     ]
    }
   ],
   "source": [
    "@error_handler\n",
    "def gradient(path):\n",
    "    img = cv.imread(path, 0)\n",
    "    cv.imshow(\"Image\", img)\n",
    "    k = 5\n",
    "    while True:\n",
    "        kernel = np.ones((k, k), np.uint8)\n",
    "        gradient = cv.morphologyEx(img, cv.MORPH_GRADIENT, kernel)\n",
    "        \n",
    "        cv.imshow(\"gradient\", gradient)\n",
    "        show_text_window([f'Kernel Size {k}'])\n",
    "\n",
    "        key = cv.waitKey(0)\n",
    "        dk, _ = get_updated_value(key, 2)\n",
    "        k += dk\n",
    "\n",
    "\n",
    "path = '../Images/j.png'\n",
    "gradient(path)"
   ]
  },
  {
   "cell_type": "code",
   "execution_count": 64,
   "metadata": {},
   "outputs": [
    {
     "name": "stdout",
     "output_type": "stream",
     "text": [
      "Terminated by user!\n"
     ]
    }
   ],
   "source": [
    "path = '../Images/blobs.png'\n",
    "gradient(path)"
   ]
  },
  {
   "cell_type": "markdown",
   "metadata": {
    "collapsed": false
   },
   "source": [
    "## _The End_."
   ]
  }
 ],
 "metadata": {
  "kernelspec": {
   "display_name": "Python 3.9.7 64-bit",
   "language": "python",
   "name": "python3"
  },
  "language_info": {
   "codemirror_mode": {
    "name": "ipython",
    "version": 3
   },
   "file_extension": ".py",
   "mimetype": "text/x-python",
   "name": "python",
   "nbconvert_exporter": "python",
   "pygments_lexer": "ipython3",
   "version": "3.9.7"
  },
  "vscode": {
   "interpreter": {
    "hash": "6fff98fc3b3d81bd655c2cc48858186e4d9e2db7b515bf1c3221888f12a62f87"
   }
  }
 },
 "nbformat": 4,
 "nbformat_minor": 1
}
