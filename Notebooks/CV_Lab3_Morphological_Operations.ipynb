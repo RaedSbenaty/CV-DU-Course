{
 "cells": [
  {
   "cell_type": "markdown",
   "metadata": {},
   "source": [
    "## _Computer Vision_\n",
    "### Lab 3, _Morphological Operations_.\n",
    "#### >> Topics  :\n",
    "* ##### Sobel and Canny Filters.\n",
    "* ##### Thresholding.\n",
    "* ##### Morphological Operations.\n",
    "\n",
    "##### >> Note  :\n",
    "> ##### to close image windows smoothly please **press Esc** on your keyboard, **don't close** it directly by clicking on 'X' to avoid kernel interruption."
   ]
  },
  {
   "cell_type": "code",
   "execution_count": 1,
   "metadata": {},
   "outputs": [],
   "source": [
    "import cv2 as cv\n",
    "import numpy as np"
   ]
  },
  {
   "cell_type": "markdown",
   "metadata": {
    "collapsed": false
   },
   "source": [
    "### Section 0, _Helper Functions_:\n",
    "> ##### This cell contains some helper function such as error_handler, please run it without any modification."
   ]
  },
  {
   "cell_type": "code",
   "execution_count": 2,
   "metadata": {
    "collapsed": false
   },
   "outputs": [],
   "source": [
    "# please don't modify this code.\n",
    "def show_text_window(titles):\n",
    "    black = np.zeros((len(titles) * 150, 300))\n",
    "    for idx, t in enumerate(titles):\n",
    "        place = idx + 1\n",
    "        cv.putText(black, t, (10, place * 100), cv.FONT_HERSHEY_SIMPLEX, 1, (200, 0, 200), 1, 2)\n",
    "    cv.imshow(\"Values\", black)\n",
    "\n",
    "\n",
    "def get_updated_value(key, value, **kwargs):\n",
    "    if key == ord('+'):\n",
    "        return value, 0\n",
    "    elif key == ord('-'):\n",
    "        return -value, 0\n",
    "    elif key == ord('*'):\n",
    "        return 0, kwargs.get('value2', value)\n",
    "    elif key == ord('/'):\n",
    "        return 0, -kwargs.get('value2', value)\n",
    "\n",
    "    else:\n",
    "        raise Exception('Terminated by User!')\n",
    "\n",
    "\n",
    "def error_handler(func):\n",
    "    def wrapper(*args, **kwargs):\n",
    "        try:\n",
    "            func(*args, **kwargs)\n",
    "        except Exception as ex:\n",
    "            cv.destroyAllWindows()\n",
    "            print(f'Error: {ex}')\n",
    "\n",
    "    return wrapper"
   ]
  },
  {
   "cell_type": "markdown",
   "metadata": {},
   "source": [
    "### Section 1, _Edge Detection_:\n",
    "> #### In this section we will discover `Sobel` and `Canny` filters which are widely used for **edge detection** in computer vision applications.\n",
    "\n",
    "#### 1.1 Sobel filter\n",
    "> ##### It is particularly effective at highlighting abrupt changes in pixel intensity, which often correspond to edges in images."
   ]
  },
  {
   "cell_type": "code",
   "execution_count": 8,
   "metadata": {},
   "outputs": [
    {
     "name": "stdout",
     "output_type": "stream",
     "text": [
      "Error: Terminated by User!\n"
     ]
    }
   ],
   "source": [
    "@error_handler\n",
    "def sobel(path):\n",
    "    image = cv.imread(path, 0)\n",
    "    cv.imshow(\"Image\", image)\n",
    "    k = 1\n",
    "    while True:\n",
    "        sobel_x_filtered_image = cv.Sobel(image, cv.CV_64F, 1, 0, ksize=k)\n",
    "        sobel_y_filtered_image = cv.Sobel(image, cv.CV_64F, 0, 1, ksize=k)\n",
    "\n",
    "        sobel_x_filtered_image = cv.convertScaleAbs(sobel_x_filtered_image)\n",
    "        sobel_y_filtered_image = cv.convertScaleAbs(sobel_y_filtered_image)\n",
    "\n",
    "        cv.imshow(\"sobel_x_filtered_image\", sobel_x_filtered_image)\n",
    "        cv.imshow(\"sobel_y_filtered_image\", sobel_y_filtered_image)\n",
    "\n",
    "        show_text_window([f'Kernel Size {k, k}'])\n",
    "\n",
    "        key = cv.waitKey(0)\n",
    "        uv, _ = get_updated_value(key, 2)\n",
    "        k += uv\n",
    "\n",
    "path = \"../Images/sudoku2.png\"\n",
    "sobel(path)"
   ]
  },
  {
   "cell_type": "markdown",
   "metadata": {},
   "source": [
    "####  1.2 Canny Filter\n",
    "##### >> it involves several steps:\n",
    "> ##### Gaussian Smoothing -> Gradient Calculation -> Non-Maximum Suppression -> Double Thresholding -> Edge Tracking by Hysteresis.\n"
   ]
  },
  {
   "cell_type": "code",
   "execution_count": 9,
   "metadata": {},
   "outputs": [
    {
     "name": "stdout",
     "output_type": "stream",
     "text": [
      "Error: Terminated by User!\n"
     ]
    }
   ],
   "source": [
    "@error_handler\n",
    "def canny(path):\n",
    "    img = cv.imread(path, 0)\n",
    "    cv.imshow('image_original', img)\n",
    "    th1 = 100\n",
    "    th2 = 200\n",
    "    while True:\n",
    "        filtered_image = cv.Canny(img, threshold1=th1, threshold2=th2)\n",
    "        cv.imshow('filtered_image', filtered_image)\n",
    "\n",
    "        show_text_window([f'Threshold1: {th1}', f'Threshold2: {th2}'])\n",
    "\n",
    "        key = cv.waitKey(0)\n",
    "        uv1, uv2 = get_updated_value(key, 10)\n",
    "        th1 += uv1\n",
    "        th2 += uv2\n",
    "\n",
    "path = '../Images/home.jpg'\n",
    "canny(path)"
   ]
  },
  {
   "cell_type": "markdown",
   "metadata": {},
   "source": [
    "### Section 2, _Thresholding_:\n",
    "> ##### In this section we will discover the variant types of thresholding including binary, inverse binary, truncate and to zero."
   ]
  },
  {
   "cell_type": "code",
   "execution_count": null,
   "metadata": {},
   "outputs": [],
   "source": [
    "@error_handler\n",
    "def threshold(path):\n",
    "    img = cv.imread(path, 0)\n",
    "    cv.imshow('Image', img)\n",
    "\n",
    "    rows, cols = img.shape\n",
    "    img = cv.resize(img, (cols // 2, rows // 2))\n",
    "\n",
    "    ret, thresh1 = cv.threshold(img, 100, 255, cv.THRESH_BINARY)\n",
    "    ret, thresh2 = cv.threshold(img, 127, 255, cv.THRESH_BINARY_INV)\n",
    "    ret, thresh3 = cv.threshold(img, 127, 0, cv.THRESH_TRUNC)\n",
    "    ret, thresh4 = cv.threshold(img, 127, 0, cv.THRESH_TOZERO)\n",
    "    ret, thresh5 = cv.threshold(img, 80, 0, cv.THRESH_TOZERO_INV)\n",
    "\n",
    "    cv.waitKey(0)\n",
    "    for i, thresh in enumerate([thresh1, thresh2, thresh3, thresh4, thresh5]):\n",
    "        cv.imshow(f'thresh{i}', thresh)\n",
    "        cv.waitKey(0)\n",
    "        cv.destroyWindow(f'thresh{i}')\n",
    "    cv.destroyAllWindows()\n",
    "\n",
    "\n",
    "path = '../Images/numbers.png'\n",
    "threshold(path)"
   ]
  },
  {
   "cell_type": "markdown",
   "metadata": {},
   "source": [
    "### Section 3, _Morphological Operations_:\n",
    "> #### Morphological operations are a set of image processing techniques in computer vision used for analyzing and manipulating the structure of objects within an image, In this section we will explore the variant types of them.\n",
    "\n",
    "#### 3.1 Dilation\n",
    "* ##### It works by expands the boundaries of the foreground object in a binary image.\n",
    "* ##### It's  useful for tasks like expanding and filling gaps in objects, joining nearby objects, and thickening object boundaries."
   ]
  },
  {
   "cell_type": "code",
   "execution_count": null,
   "metadata": {},
   "outputs": [],
   "source": [
    "@error_handler\n",
    "def dilation(path):\n",
    "    img = cv.imread(path, 0)\n",
    "    cv.imshow(\"Image\", img)\n",
    "    k = 1\n",
    "    iterations = 1\n",
    "    while True:\n",
    "        kernel = np.ones((k, k), np.uint8)\n",
    "        dilation_ = cv.dilate(img, kernel, iterations=iterations)\n",
    "        cv.imshow(\"dilation\", dilation_)\n",
    "\n",
    "        show_text_window([f'Kernel Size {k}', f'Iterations {iterations}'])\n",
    "\n",
    "        key = cv.waitKey(0)\n",
    "        uv1, uv2 = get_updated_value(key, 2, value2=1)\n",
    "        k += uv1\n",
    "        iterations += uv2\n",
    "\n",
    "path = '../Images/circles.png'\n",
    "dilation(path)"
   ]
  },
  {
   "cell_type": "markdown",
   "metadata": {},
   "source": [
    "### 3.2 Erosion\n",
    "* ##### Erosion is the opposite of dilation.\n",
    "* ##### It shrinks the boundaries of the foreground object in a binary image.\n",
    "* ##### It's useful for tasks like removing noise, separating touching objects, and thinning object boundaries."
   ]
  },
  {
   "cell_type": "code",
   "execution_count": null,
   "metadata": {},
   "outputs": [],
   "source": [
    "@error_handler\n",
    "def erosion(path):\n",
    "    img = cv.imread(path, 0)\n",
    "    cv.imshow(\"Image\", img)\n",
    "    k = 1\n",
    "    iterations = 1\n",
    "    while True:\n",
    "        kernel = np.ones((k, k), np.uint8)\n",
    "        erosion_ = cv.erode(img, kernel, iterations=iterations)\n",
    "        cv.imshow(\"erosion\", erosion_)\n",
    "\n",
    "        show_text_window([f'Kernel Size {k}', f'Iterations {iterations}'])\n",
    "\n",
    "        key = cv.waitKey(0)\n",
    "        uv1, uv2 = get_updated_value(key, 2, value2=1)\n",
    "        k += uv1\n",
    "        iterations += uv2\n",
    "\n",
    "\n",
    "path = '../Images/circles.png'\n",
    "erosion(path)"
   ]
  },
  {
   "cell_type": "markdown",
   "metadata": {},
   "source": [
    "### 3.3 Opening\n",
    "* ##### Opening is a sequence of erosion followed by dilation.\n",
    "* ##### It's useful for removing small objects, noise, or fine details from the image.\n",
    "* ##### Opening = Erosion + Dilation."
   ]
  },
  {
   "cell_type": "code",
   "execution_count": null,
   "metadata": {},
   "outputs": [],
   "source": [
    "@error_handler\n",
    "def opening(path):\n",
    "    img = cv.imread(path, 0)\n",
    "    cv.imshow(\"Image\", img)\n",
    "    k = 1\n",
    "    while True:\n",
    "        kernel = np.ones((k, k), np.uint8)\n",
    "        opening_ = cv.morphologyEx(img, cv.MORPH_OPEN, kernel)\n",
    "        cv.imshow(\"opening\", opening_)\n",
    "\n",
    "        show_text_window([f'Kernel Size {k}'])\n",
    "\n",
    "        key = cv.waitKey(0)\n",
    "        uv1, uv2 = get_updated_value(key, 2)\n",
    "        k += uv1\n",
    "\n",
    "path = '../Images/opening.png'\n",
    "opening(path)"
   ]
  },
  {
   "cell_type": "markdown",
   "metadata": {},
   "source": [
    "### 3.4 Closing\n",
    "* ##### Closing is a sequence of dilation followed by erosion.\n",
    "* ##### It's effective in closing small holes and gaps within objects.\n",
    "* ##### Closing = Dilation + Erosion."
   ]
  },
  {
   "cell_type": "code",
   "execution_count": null,
   "metadata": {},
   "outputs": [],
   "source": [
    "@error_handler\n",
    "def closing(path):\n",
    "    img = cv.imread(path, 0)\n",
    "    cv.imshow(\"Image\", img)\n",
    "    k = 1\n",
    "    while True:\n",
    "        kernel = np.ones((k, k), np.uint8)\n",
    "        closing_ = cv.morphologyEx(img, cv.MORPH_CLOSE, kernel)\n",
    "        cv.imshow(\"closing\", closing_)\n",
    "\n",
    "        show_text_window([f'Kernel Size {k}'])\n",
    "\n",
    "        key = cv.waitKey(0)\n",
    "        uv1, uv2 = get_updated_value(key, 2)\n",
    "        k += uv1\n",
    "\n",
    "\n",
    "path = '../Images/j.png'\n",
    "closing(path)"
   ]
  },
  {
   "cell_type": "markdown",
   "metadata": {},
   "source": [
    "### 3.5 Gradient\n",
    "* ##### The morphological gradient is the difference between dilation and erosion of an image.\n",
    "* ##### It highlights the boundaries of objects.\n",
    "* ##### Gradient = Dilation - Erosion\n"
   ]
  },
  {
   "cell_type": "code",
   "execution_count": null,
   "metadata": {},
   "outputs": [],
   "source": [
    "@error_handler\n",
    "def gradient(path):\n",
    "    img = cv.imread(path, 0)\n",
    "    cv.imshow(\"Image\", img)\n",
    "    k = 1\n",
    "    while True:\n",
    "        kernel = np.ones((k, k), np.uint8)\n",
    "        gradient_ = cv.morphologyEx(img, cv.MORPH_GRADIENT, kernel)\n",
    "        cv.imshow(\"gradient\", gradient_)\n",
    "\n",
    "        show_text_window([f'Kernel Size {k}'])\n",
    "\n",
    "        key = cv.waitKey(0)\n",
    "        uv1, uv2 = get_updated_value(key, 2)\n",
    "        k += uv1\n",
    "\n",
    "\n",
    "path = '../Images/j.png'\n",
    "gradient(path)"
   ]
  },
  {
   "cell_type": "markdown",
   "metadata": {
    "collapsed": false
   },
   "source": [
    "## _The End_."
   ]
  }
 ],
 "metadata": {
  "kernelspec": {
   "display_name": "Python 3.9.7 64-bit",
   "language": "python",
   "name": "python3"
  },
  "language_info": {
   "codemirror_mode": {
    "name": "ipython",
    "version": 3
   },
   "file_extension": ".py",
   "mimetype": "text/x-python",
   "name": "python",
   "nbconvert_exporter": "python",
   "pygments_lexer": "ipython3",
   "version": "3.9.7"
  },
  "vscode": {
   "interpreter": {
    "hash": "6fff98fc3b3d81bd655c2cc48858186e4d9e2db7b515bf1c3221888f12a62f87"
   }
  }
 },
 "nbformat": 4,
 "nbformat_minor": 1
}
